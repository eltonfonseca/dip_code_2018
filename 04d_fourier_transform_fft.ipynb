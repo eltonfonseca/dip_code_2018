{
 "cells": [
  {
   "cell_type": "markdown",
   "metadata": {},
   "source": [
    "## Aula 04d - Fast Fourier Transform"
   ]
  },
  {
   "cell_type": "code",
   "execution_count": 150,
   "metadata": {},
   "outputs": [],
   "source": [
    "import numpy as np\n",
    "import imageio\n",
    "import matplotlib.pyplot as plt\n",
    "import time\n",
    "from cmath import exp, pi\n",
    "%matplotlib inline"
   ]
  },
  {
   "cell_type": "markdown",
   "metadata": {},
   "source": [
    "A transformada rápida de Fourier (FFT) é um algoritmo de *divisão e conquista* que divide o arranjo de números em duas partes: índices pares e índices ímpares, até obter o caso trivial. É preciso lembrar que as exponenciais complexas (que podem ser decompostas em seno e cosseno) são periódicas e simétricas, e é dessas duas propriedades que sai a possibilidade de computar a FFT.\n",
    "\n",
    "Em particular, a partir de $e^{-j \\frac{2\\pi}{N} x u}$, podemos isolar a parte constante e definir a variável $W = e^{-j \\frac{2\\pi}{N}}$. Note que $W$ é fixo, pois não depende da amostragem no tempo (controlada por $x$), nem da frequência dos senos e cossenos (controlada por $u$). Assim, se tivermos por exemplo um sinal com 4 observações ($N=4$), então teremos:\n"
   ]
  },
  {
   "cell_type": "code",
   "execution_count": 151,
   "metadata": {},
   "outputs": [
    {
     "name": "stdout",
     "output_type": "stream",
     "text": [
      "(6.123233995736766e-17-1j)\n"
     ]
    }
   ],
   "source": [
    "N = 4\n",
    "W = exp(-1j*(2*pi)/N)\n",
    "print(W)"
   ]
  },
  {
   "cell_type": "markdown",
   "metadata": {},
   "source": [
    "Que é independente de $u$ e de $x$. As duas propriedades que utilizaremos são: \n",
    "1. periodicidade em u,x: $W_N^{ux} = W_N^{u(N+x)} = W_N^{(u+N)x}$   \n",
    "\n",
    "2. simetria do complexo conjugado: $W_N^{u(N-x)} = W_N^{-ux} = (W_N^{ux})^*$\n",
    "   por exemplo é fácil ver que para $x=N$, $W_N^{uN} = e^{-j2\\pi u} =1$\n",
    "   \n",
    "O passo de **divisão** é feito (conforme dissemos anteriormente), decompondo a transformada em índices pares e ímpares. Escrevendo a transformada em termos de $W$:\n",
    "\n",
    "$F(u) = \\sum_{x=0}^{N-1} f(x)W_N^{ux}$\n",
    "\n",
    "podemos reescrever os índices pares como $2x$ e os índices ímpares com $2x+1$:\n",
    "\n",
    "$F(u) = \\sum_{x = 0}^{N/2-1} f(2x)W_N^{u(2x)} +  \\sum_{x =0}^{N/2-1} f(2x+1)W_N^{u(2x+1)}$\n",
    "\n",
    "e a seguir:\n",
    "\n",
    "$F(u) = \\sum_{x = 0}^{N/2-1} f(2x)\\cdot(W_N^2)^{ux} +  \\sum_{x =0}^{N/2-1} f(2x+1)\\cdot (W_N^2)^{(2x+1)u}$\n",
    "\n",
    "e então podemos mover para fora da soma dos termos ímpares o termo independente de $x$ que é o $W_N^u$ obtido da distribuição do $u$:\n",
    "\n",
    "$F(u) = \\sum_{x = 0}^{N/2-1} f(2x)\\cdot(W_N^2)^{ux} +  W_N^u \\cdot \\sum_{x =0}^{N/2-1} f(2x+1)\\cdot (W_N^2)^{ux}$\n",
    "\n",
    "E agora vem o truque! pois:\n",
    "$W_N^2 = e^{-j\\frac{2\\pi}{N}2} = e^{-j\\frac{2\\pi}{N/2}} = W_{N/2}$\n",
    "\n",
    "o que permite escrever:\n",
    "\n",
    "$F(u) = \\sum_{x = 0}^{N/2-1} f(2x)\\cdot W_{N/2}^{ux} +  W_N^u \\cdot \\sum_{x =0}^{N/2-1} f(2x+1)\\cdot W_{N/2}^{ux}$\n",
    "\n",
    "O primeiro termo é a DFT dos $N/2$ elementos correspondentes aos índices pares, o segundo termo é a DFT dos $N/2$ elementos correspondentes aos índices pares!\n",
    "\n",
    "Assim podemos decompor a DFT de $N$ elementos, de forma recursiva, em $N/2$ DFTs, e posteriormente combinar os resultados:\n",
    "\n",
    "$F(u) = F_\\text{par}(u) + W_N^u \\cdot F_\\text{ímpar}(u)$"
   ]
  },
  {
   "cell_type": "code",
   "execution_count": 166,
   "metadata": {},
   "outputs": [
    {
     "data": {
      "text/plain": [
       "[3, 4, 2, 1]"
      ]
     },
     "execution_count": 166,
     "metadata": {},
     "output_type": "execute_result"
    }
   ],
   "source": [
    "N = 4\n",
    "f = [3,4,2,1]\n",
    "f"
   ]
  },
  {
   "cell_type": "code",
   "execution_count": 167,
   "metadata": {},
   "outputs": [
    {
     "name": "stdout",
     "output_type": "stream",
     "text": [
      "[3, 2]\n",
      "[4, 1]\n"
     ]
    }
   ],
   "source": [
    "# separamos em partes pares e ímpares\n",
    "f_par = f[0::2]\n",
    "f_imp = f[1::2]\n",
    "print(f_par)\n",
    "print(f_imp)"
   ]
  },
  {
   "cell_type": "code",
   "execution_count": 168,
   "metadata": {},
   "outputs": [
    {
     "name": "stdout",
     "output_type": "stream",
     "text": [
      "[3]\n",
      "[2]\n"
     ]
    }
   ],
   "source": [
    "# separamos a parte par em partes pares e ímpares\n",
    "f_parpar = f_par[0::2]\n",
    "f_parimp = f_par[1::2]\n",
    "print(f_parpar)\n",
    "print(f_parimp)"
   ]
  },
  {
   "cell_type": "markdown",
   "metadata": {},
   "source": [
    "Nesse exemplo simples, particionamos até chegar no caso base, em que temos 1 elemento par e 1 ímpar e agora conseguimos calcular:"
   ]
  },
  {
   "cell_type": "code",
   "execution_count": 169,
   "metadata": {},
   "outputs": [
    {
     "name": "stdout",
     "output_type": "stream",
     "text": [
      "[(5+0j), (1+0j)]\n"
     ]
    }
   ],
   "source": [
    "respar0 = f_parpar[0] + exp(-2j*pi*0/N) * f_parimp[0]\n",
    "respar1 = f_parpar[0] - exp(-2j*pi*0/N) * f_parimp[0]\n",
    "respar = [respar0, respar1]\n",
    "print(respar)"
   ]
  },
  {
   "cell_type": "markdown",
   "metadata": {},
   "source": [
    "Agora esse resultado é guardado e precisamos executar o outro lado da recursão, relativo aos elementos ímpares.\n"
   ]
  },
  {
   "cell_type": "code",
   "execution_count": 170,
   "metadata": {},
   "outputs": [
    {
     "name": "stdout",
     "output_type": "stream",
     "text": [
      "[4]\n",
      "[1]\n"
     ]
    }
   ],
   "source": [
    "# separamos a parte ímpar em partes pares e ímpares\n",
    "f_imppar = f_imp[0::2]\n",
    "f_impimp = f_imp[1::2]\n",
    "print(f_imppar)\n",
    "print(f_impimp)"
   ]
  },
  {
   "cell_type": "code",
   "execution_count": 171,
   "metadata": {},
   "outputs": [
    {
     "name": "stdout",
     "output_type": "stream",
     "text": [
      "[(5+0j), (3+0j)]\n"
     ]
    }
   ],
   "source": [
    "resimp0 = f_imppar[0] + exp(-2j*pi*0/N) * f_impimp[0]\n",
    "resimp1 = f_imppar[0] - exp(-2j*pi*0/N) * f_impimp[0]\n",
    "resimp = [resimp0, resimp1]\n",
    "print(resimp)"
   ]
  },
  {
   "cell_type": "markdown",
   "metadata": {},
   "source": [
    "Agora combinamos os resultados individuais (respar e resimp):"
   ]
  },
  {
   "cell_type": "code",
   "execution_count": 172,
   "metadata": {},
   "outputs": [
    {
     "data": {
      "text/plain": [
       "array([10.+0.j,  1.-3.j,  0.+0.j,  1.+3.j], dtype=complex64)"
      ]
     },
     "execution_count": 172,
     "metadata": {},
     "output_type": "execute_result"
    }
   ],
   "source": [
    "# pela simetria, posso usar o resultado 0 para obter tambem 0+N/2 = N/4 = 2\n",
    "res0 = respar[0] + exp(-2j*pi*0/N) * resimp[0]\n",
    "res2 = respar[0] - exp(-2j*pi*0/N) * resimp[0]\n",
    "\n",
    "# pela simetria, posso usar o resultado 1 para obter tambem 1+N/2 = 1+N/4 = 3\n",
    "res1 = respar[1] + exp(-2j*pi*1/N) * resimp[1]\n",
    "res3 = respar[1] - exp(-2j*pi*1/N) * resimp[1]\n",
    "\n",
    "# compondo em um único vetor\n",
    "F_manual =  np.array([res0, res1, res2, res3]).astype(np.complex64)\n",
    "F_manual"
   ]
  },
  {
   "cell_type": "markdown",
   "metadata": {},
   "source": [
    "Vamos implementar essa ideia em uma função."
   ]
  },
  {
   "cell_type": "code",
   "execution_count": 173,
   "metadata": {},
   "outputs": [],
   "source": [
    "def FFT(A):\n",
    "    N = len(A)\n",
    "    if N <= 1:\n",
    "        return A\n",
    "    \n",
    "    # divisao\n",
    "    par   = FFT(A[0::2])\n",
    "    impar = FFT(A[1::2])\n",
    "\n",
    "    # combinacao\n",
    "    temp = np.zeros(N).astype(np.complex64)\n",
    "    \n",
    "    # faco apenas para metade das frequencias, \n",
    "    # computando de forma simetrica u+N/2\n",
    "    for u in range(N//2):\n",
    "        temp[u] = par[u] + exp(-2j*pi*u/N) * impar[u] # conquista\n",
    "        temp[u+N//2] = par[u] - exp(-2j*pi*u/N)*impar[u]  # conquista\n",
    "                \n",
    "    return temp"
   ]
  },
  {
   "cell_type": "code",
   "execution_count": 174,
   "metadata": {},
   "outputs": [
    {
     "data": {
      "text/plain": [
       "array([10.+0.j,  1.-3.j,  0.+0.j,  1.+3.j], dtype=complex64)"
      ]
     },
     "execution_count": 174,
     "metadata": {},
     "output_type": "execute_result"
    }
   ],
   "source": [
    "# testando o resultado\n",
    "F_fft = FFT(f)\n",
    "F_fft"
   ]
  },
  {
   "cell_type": "code",
   "execution_count": 181,
   "metadata": {},
   "outputs": [
    {
     "data": {
      "text/plain": [
       "array([10.+0.0000000e+00j,  1.-3.0000000e+00j,  0.-3.6739403e-16j,\n",
       "        1.+3.0000000e+00j], dtype=complex64)"
      ]
     },
     "execution_count": 181,
     "metadata": {},
     "output_type": "execute_result"
    }
   ],
   "source": [
    "# usando a nossa ultima implementacao da DFT\n",
    "def DFT1D(A):\n",
    "   \n",
    "    F = np.zeros(A.shape, dtype=np.complex64)\n",
    "    N = A.shape[0]\n",
    "\n",
    "    # criamos os indices para x\n",
    "    x = np.arange(N)\n",
    "    # para cada frequencia, computamos de forma vetorial para x e somamos em 'u'\n",
    "    for u in np.arange(N):\n",
    "        F[u] = np.sum(A*np.exp(-2j * pi * u*x / N ))\n",
    "    \n",
    "    return F\n",
    "\n",
    "F_dft = DFT1D(np.array(f))\n",
    "F_dft"
   ]
  },
  {
   "cell_type": "code",
   "execution_count": 182,
   "metadata": {},
   "outputs": [
    {
     "name": "stdout",
     "output_type": "stream",
     "text": [
      "[10.+0.0000000e+00j  1.-3.0000000e+00j  0.-3.6739403e-16j\n",
      "  1.+3.0000000e+00j]\n",
      "[10.+0.j  1.-3.j  0.+0.j  1.+3.j]\n",
      "[10.+0.j  1.-3.j  0.+0.j  1.+3.j]\n"
     ]
    }
   ],
   "source": [
    "print(F_dft)\n",
    "print(F_manual)\n",
    "print(F_fft)"
   ]
  },
  {
   "cell_type": "markdown",
   "metadata": {},
   "source": [
    "apenas um dos termos, o terceiro valor, teve uma diferença na parte imaginária num valor $\\sim 3.67 \\times 10^{-16}$, um erro bastante baixo.\n",
    "\n",
    "Essa implementação assume $N=2^x$, e existem outras implementações para compensar essa limitação. No entanto, com esse algoritmo já é possível entender como podemos vencer a complexidade quadrática da DFT, obtendo o mesmo resultado em tempo $O(N \\log_2{N})$"
   ]
  }
 ],
 "metadata": {
  "kernelspec": {
   "display_name": "Python 3",
   "language": "python",
   "name": "python3"
  },
  "language_info": {
   "codemirror_mode": {
    "name": "ipython",
    "version": 3
   },
   "file_extension": ".py",
   "mimetype": "text/x-python",
   "name": "python",
   "nbconvert_exporter": "python",
   "pygments_lexer": "ipython3",
   "version": "3.6.4"
  }
 },
 "nbformat": 4,
 "nbformat_minor": 2
}
